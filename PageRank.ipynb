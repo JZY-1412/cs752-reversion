{
 "cells": [
  {
   "cell_type": "markdown",
   "source": [
    "# PageRank"
   ],
   "metadata": {
    "collapsed": false,
    "pycharm": {
     "name": "#%% md\n"
    }
   }
  },
  {
   "cell_type": "code",
   "execution_count": 137,
   "outputs": [],
   "source": [
    "import numpy as np"
   ],
   "metadata": {
    "collapsed": false,
    "pycharm": {
     "name": "#%%\n"
    }
   }
  },
  {
   "cell_type": "markdown",
   "source": [
    "## Traditional Method"
   ],
   "metadata": {
    "collapsed": false,
    "pycharm": {
     "name": "#%% md\n"
    }
   }
  },
  {
   "cell_type": "code",
   "execution_count": 138,
   "outputs": [],
   "source": [
    "def create_transition_matrix(vertices_dict, vertices_order, string = True):\n",
    "    matrix = []\n",
    "    for v in vertices_order:\n",
    "        r = []\n",
    "        for u in vertices_order:\n",
    "            if v in vertices_dict[u]:\n",
    "                if string:\n",
    "                    r.append(\"1 / \" + str(len(vertices_dict[u])))\n",
    "                else:\n",
    "                    r.append(1 / len(vertices_dict[u]))\n",
    "            else:\n",
    "                if string:\n",
    "                    r.append(\"0\")\n",
    "                else:\n",
    "                    r.append(0)\n",
    "        matrix.append(r)\n",
    "    return matrix\n",
    "\n",
    "\n",
    "def power_iteration(matrix, node_number, threshold):\n",
    "    matrix = np.array(matrix)\n",
    "    count = 0\n",
    "    old_r = np.ones([node_number, 1]) / node_number\n",
    "    new_r = matrix.dot(old_r)\n",
    "    while np.sum(np.abs(new_r-old_r)) >= threshold:\n",
    "        count += 1\n",
    "        if (np.sum(np.abs(new_r-old_r))) == 0:\n",
    "            break\n",
    "        old_r = new_r\n",
    "        new_r = matrix.dot(old_r)\n",
    "    return new_r, count\n",
    "\n",
    "\n",
    "def power_iteration_by_number(matrix, node_number, iteration_number):\n",
    "    matrix = np.array(matrix)\n",
    "    old_r = np.ones([node_number, 1]) / node_number\n",
    "    new_r = matrix.dot(old_r)\n",
    "    count = 1\n",
    "    while count < iteration_number:\n",
    "        count += 1\n",
    "        if (np.sum(np.abs(new_r-old_r))) == 0:\n",
    "            break\n",
    "        old_r = new_r\n",
    "        new_r = matrix.dot(old_r)\n",
    "    return new_r, count"
   ],
   "metadata": {
    "collapsed": false,
    "pycharm": {
     "name": "#%%\n"
    }
   }
  },
  {
   "cell_type": "code",
   "execution_count": 139,
   "metadata": {
    "collapsed": true
   },
   "outputs": [
    {
     "name": "stdout",
     "output_type": "stream",
     "text": [
      "[0.25, 0, 0, 0]\n",
      "[0.25, 0, 0, 0.5]\n",
      "[0.25, 0, 0, 0.5]\n",
      "[0.25, 1.0, 0, 0]\n"
     ]
    }
   ],
   "source": [
    "nodes = dict()\n",
    "nodes[\"A\"] = [\"A\", \"B\", \"C\", \"D\"]\n",
    "nodes[\"B\"] = [\"D\"]\n",
    "nodes[\"C\"] = []\n",
    "nodes[\"D\"] = [\"B\", \"C\"]\n",
    "# nodes[\"A\"] = [\"B\", \"C\", \"D\"]\n",
    "# nodes[\"B\"] = [\"A\", \"D\"]\n",
    "# nodes[\"C\"] = [\"A\"]\n",
    "# nodes[\"D\"] = [\"B\", \"C\"]\n",
    "\n",
    "nodes_order = [\"A\", \"B\", \"C\", \"D\"]\n",
    "\n",
    "transition_matrix = create_transition_matrix(nodes, nodes_order, False)\n",
    "for row in transition_matrix:\n",
    "    print(row)"
   ]
  },
  {
   "cell_type": "code",
   "execution_count": 140,
   "outputs": [
    {
     "name": "stdout",
     "output_type": "stream",
     "text": [
      "(array([[0.],\n",
      "       [0.],\n",
      "       [0.],\n",
      "       [0.]]), 2149)\n"
     ]
    }
   ],
   "source": [
    "result = power_iteration(transition_matrix, 4, 0)\n",
    "print(result)"
   ],
   "metadata": {
    "collapsed": false,
    "pycharm": {
     "name": "#%%\n"
    }
   }
  },
  {
   "cell_type": "code",
   "execution_count": 141,
   "outputs": [
    {
     "name": "stdout",
     "output_type": "stream",
     "text": [
      "(array([[0.0625],\n",
      "       [0.1875],\n",
      "       [0.1875],\n",
      "       [0.3125]]), 1)\n"
     ]
    }
   ],
   "source": [
    "after_one = power_iteration_by_number(transition_matrix, 4, 1)\n",
    "print(after_one)"
   ],
   "metadata": {
    "collapsed": false,
    "pycharm": {
     "name": "#%%\n"
    }
   }
  },
  {
   "cell_type": "markdown",
   "source": [
    "## Map Reduce Method"
   ],
   "metadata": {
    "collapsed": false
   }
  },
  {
   "cell_type": "code",
   "execution_count": 142,
   "outputs": [],
   "source": [
    "def map_part(url_pagerank_outlinks_dict, node_order):\n",
    "    result_dict = {}\n",
    "    for node in node_order:\n",
    "        result_node_dict = {}\n",
    "        node_dict = url_pagerank_outlinks_dict[node]\n",
    "        url_pagerank = list(node_dict.keys())[0]\n",
    "        outlinks = list(node_dict.values())[0]\n",
    "        for outlink in outlinks:\n",
    "            result_node_dict[outlink] = url_pagerank[1] / len(outlinks)\n",
    "        result_node_dict[url_pagerank[0]] = outlinks\n",
    "        result_dict[node] = result_node_dict\n",
    "    return result_dict\n",
    "\n",
    "\n",
    "def produce_map_output(map_result):\n",
    "    result_dict = {}\n",
    "    for node_i in map_result:\n",
    "        for node_j in map_result[node_i]:\n",
    "            if node_j.upper() in result_dict:\n",
    "                result_dict[node_j.upper()].append(map_result[node_i][node_j])\n",
    "            else:\n",
    "                result_dict[node_j.upper()] = [map_result[node_i][node_j]]\n",
    "    return result_dict\n",
    "\n",
    "\n",
    "def reduce_part(map_result, node_order):\n",
    "    result_dict = {}\n",
    "    for node in node_order:\n",
    "        node_value = map_result[node]\n",
    "        key = 0\n",
    "        value = None\n",
    "        for v in node_value:\n",
    "            if type(v) != list:\n",
    "                key += v\n",
    "            else:\n",
    "                value = v\n",
    "        key = (node, key)\n",
    "        result_dict[node] = {key: value}\n",
    "    return result_dict"
   ],
   "metadata": {
    "collapsed": false,
    "pycharm": {
     "name": "#%%\n"
    }
   }
  },
  {
   "cell_type": "code",
   "execution_count": 143,
   "outputs": [
    {
     "name": "stdout",
     "output_type": "stream",
     "text": [
      "First Map Input:\n",
      "A {('A', 0.25): ['a', 'b', 'c', 'd']}\n",
      "B {('B', 0.25): ['d']}\n",
      "C {('C', 0.25): []}\n",
      "D {('D', 0.25): ['b', 'c']}\n",
      "\n",
      "First Map Output:\n",
      "A {'a': 0.0625, 'b': 0.0625, 'c': 0.0625, 'd': 0.0625, 'A': ['a', 'b', 'c', 'd']}\n",
      "B {'d': 0.25, 'B': ['d']}\n",
      "C {'C': []}\n",
      "D {'b': 0.125, 'c': 0.125, 'D': ['b', 'c']}\n",
      "\n",
      "First Reduce Input:\n",
      "A [0.0625, ['a', 'b', 'c', 'd']]\n",
      "B [0.0625, ['d'], 0.125]\n",
      "C [0.0625, [], 0.125]\n",
      "D [0.0625, 0.25, ['b', 'c']]\n",
      "\n",
      "First Reduce Output:\n",
      "A {('A', 0.0625): ['a', 'b', 'c', 'd']}\n",
      "B {('B', 0.1875): ['d']}\n",
      "C {('C', 0.1875): []}\n",
      "D {('D', 0.3125): ['b', 'c']}\n"
     ]
    }
   ],
   "source": [
    "url_pagerank_outlinks_dict = {\n",
    "    \"A\": {(\"A\", 1/4): [\"a\", \"b\", \"c\", \"d\"]},\n",
    "    \"B\": {(\"B\", 1/4): [\"d\"]},\n",
    "    \"C\": {(\"C\", 1/4): []},\n",
    "    \"D\": {(\"D\", 1/4): [\"b\", \"c\"]},\n",
    "}\n",
    "# url_pagerank_outlinks_dict = {\n",
    "#     \"A\": {(\"A\", 1/4): [\"A\", \"B\", \"B\", \"D\"]},\n",
    "#     \"B\": {(\"B\", 1/4): [\"D\"]},\n",
    "#     \"C\": {(\"C\", 1/4): []},\n",
    "#     \"D\": {(\"D\", 1/4): [\"B\", \"C\"]},\n",
    "# }\n",
    "node_order = [\"A\", \"B\", \"C\", \"D\"]\n",
    "print(\"First Map Input:\")\n",
    "for node in node_order:\n",
    "    print(node, url_pagerank_outlinks_dict[node])\n",
    "print()\n",
    "map_result = map_part(url_pagerank_outlinks_dict, node_order)\n",
    "print(\"First Map Output:\")\n",
    "for node in node_order:\n",
    "    print(node, map_result[node])\n",
    "print()\n",
    "map_result = produce_map_output(map_result)\n",
    "print(\"First Reduce Input:\")\n",
    "for node in node_order:\n",
    "    print(node, map_result[node])\n",
    "print()\n",
    "reduce_result = reduce_part(map_result, node_order)\n",
    "print(\"First Reduce Output:\")\n",
    "for node in node_order:\n",
    "    print(node, reduce_result[node])\n"
   ],
   "metadata": {
    "collapsed": false,
    "pycharm": {
     "name": "#%%\n"
    }
   }
  }
 ],
 "metadata": {
  "kernelspec": {
   "display_name": "Python 3",
   "language": "python",
   "name": "python3"
  },
  "language_info": {
   "codemirror_mode": {
    "name": "ipython",
    "version": 2
   },
   "file_extension": ".py",
   "mimetype": "text/x-python",
   "name": "python",
   "nbconvert_exporter": "python",
   "pygments_lexer": "ipython2",
   "version": "2.7.6"
  }
 },
 "nbformat": 4,
 "nbformat_minor": 0
}