{
 "cells": [
  {
   "cell_type": "markdown",
   "metadata": {
    "collapsed": true,
    "pycharm": {
     "name": "#%% md\n"
    }
   },
   "source": [
    "# TF-IDF"
   ]
  },
  {
   "cell_type": "code",
   "execution_count": 73,
   "outputs": [],
   "source": [
    "import math"
   ],
   "metadata": {
    "collapsed": false,
    "pycharm": {
     "name": "#%%\n"
    }
   }
  },
  {
   "cell_type": "code",
   "execution_count": 74,
   "outputs": [],
   "source": [
    "def calculate_tf(document, word, log_base):\n",
    "    tf = 0\n",
    "    if word not in document:\n",
    "        return None\n",
    "    for w in document:\n",
    "        if w == word:\n",
    "            tf += 1\n",
    "    tf = tf / len(document)\n",
    "    return tf\n",
    "\n",
    "\n",
    "def calculate_idf(documents, word, log_base):\n",
    "    contains = 0\n",
    "    for document in documents:\n",
    "        if word in document:\n",
    "            contains += 1\n",
    "    idf = len(documents) / contains\n",
    "    idf = math.log(idf, log_base)\n",
    "    return idf"
   ],
   "metadata": {
    "collapsed": false,
    "pycharm": {
     "name": "#%%\n"
    }
   }
  },
  {
   "cell_type": "code",
   "execution_count": 75,
   "outputs": [],
   "source": [
    "d1 = \"jaguar new world mammal felidae family\"\n",
    "d2 = \"jaguar design four new engine\"\n",
    "d3 = \"jaguar atari keen 68k family device\"\n",
    "d4 = \"jacksonville jaguar professional us football team\"\n",
    "d5 = \"mac os x jaguar available price us $199 apple new family pack\"\n",
    "d6 = \"one such rule family incorporate jaguar their name jaguar paw\"\n",
    "d7 = \"big cat\"\n",
    "\n",
    "d1 = d1.split()\n",
    "d2 = d2.split()\n",
    "d3 = d3.split()\n",
    "d4 = d4.split()\n",
    "d5 = d5.split()\n",
    "d6 = d6.split()\n",
    "d7 = d7.split()\n",
    "documents = [d1, d2, d3, d4, d5, d6, d7]"
   ],
   "metadata": {
    "collapsed": false,
    "pycharm": {
     "name": "#%%\n"
    }
   }
  },
  {
   "cell_type": "code",
   "execution_count": 76,
   "outputs": [
    {
     "name": "stdout",
     "output_type": "stream",
     "text": [
      "word: us\n",
      "\n",
      "d1 tf: None\n",
      "d2 tf: None\n",
      "d3 tf: None\n",
      "d4 tf: 0.16666666666666666\n",
      "d5 tf: 0.08333333333333333\n",
      "d6 tf: None\n",
      "d7 tf: None\n",
      "\n",
      "idf: 1.8073549220576042\n",
      "\n",
      "d4 tf-idf: 0.301225820342934\n",
      "d5 tf-idf: 0.150612910171467\n"
     ]
    }
   ],
   "source": [
    "word = \"us\"\n",
    "log_base = 2\n",
    "\n",
    "print(\"word:\", word)\n",
    "print()\n",
    "\n",
    "d1_tf = calculate_tf(d1, word, 0)\n",
    "print(\"d1 tf:\", d1_tf)\n",
    "d2_tf = calculate_tf(d2, word, 0)\n",
    "print(\"d2 tf:\", d2_tf)\n",
    "d3_tf = calculate_tf(d3, word, 0)\n",
    "print(\"d3 tf:\", d3_tf)\n",
    "d4_tf = calculate_tf(d4, word, 0)\n",
    "print(\"d4 tf:\", d4_tf)\n",
    "d5_tf = calculate_tf(d5, word, 0)\n",
    "print(\"d5 tf:\", d5_tf)\n",
    "d6_tf = calculate_tf(d6, word, 0)\n",
    "print(\"d6 tf:\", d6_tf)\n",
    "d7_tf = calculate_tf(d7, word, 0)\n",
    "print(\"d7 tf:\", d7_tf)\n",
    "print()\n",
    "\n",
    "idf = calculate_idf(documents, word, log_base)\n",
    "print(\"idf:\", idf)\n",
    "print()\n",
    "\n",
    "if d1_tf is not None:\n",
    "    d1_tfidf = d1_tf * idf\n",
    "    print(\"d1 tf-idf:\", d1_tfidf)\n",
    "if d2_tf is not None:\n",
    "    d2_tfidf = d2_tf * idf\n",
    "    print(\"d2 tf-idf:\", d2_tfidf)\n",
    "if d3_tf is not None:\n",
    "    d3_tfidf = d3_tf * idf\n",
    "    print(\"d3 tf-idf:\", d3_tfidf)\n",
    "if d4_tf is not None:\n",
    "    d4_tfidf = d4_tf * idf\n",
    "    print(\"d4 tf-idf:\", d4_tfidf)\n",
    "if d5_tf is not None:\n",
    "    d5_tfidf = d5_tf * idf\n",
    "    print(\"d5 tf-idf:\", d5_tfidf)\n",
    "if d6_tf is not None:\n",
    "    d6_tfidf = d6_tf * idf\n",
    "    print(\"d6 tf-idf:\", d6_tfidf)\n",
    "if d7_tf is not None:\n",
    "    d7_tfidf = d7_tf * idf\n",
    "    print(\"d7 tf-idf:\", d7_tfidf)\n"
   ],
   "metadata": {
    "collapsed": false,
    "pycharm": {
     "name": "#%%\n"
    }
   }
  }
 ],
 "metadata": {
  "kernelspec": {
   "display_name": "Python 3",
   "language": "python",
   "name": "python3"
  },
  "language_info": {
   "codemirror_mode": {
    "name": "ipython",
    "version": 2
   },
   "file_extension": ".py",
   "mimetype": "text/x-python",
   "name": "python",
   "nbconvert_exporter": "python",
   "pygments_lexer": "ipython2",
   "version": "2.7.6"
  }
 },
 "nbformat": 4,
 "nbformat_minor": 0
}