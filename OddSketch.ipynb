{
 "cells": [
  {
   "cell_type": "markdown",
   "source": [
    "# Odd Sketch"
   ],
   "metadata": {
    "collapsed": false
   }
  },
  {
   "cell_type": "code",
   "execution_count": 29,
   "outputs": [],
   "source": [
    "import numpy as np"
   ],
   "metadata": {
    "collapsed": false,
    "pycharm": {
     "name": "#%%\n"
    }
   }
  },
  {
   "cell_type": "code",
   "execution_count": 30,
   "outputs": [],
   "source": [
    "def calculate_symmetric_size(set1, set2):\n",
    "    symmetric_size = 0\n",
    "    for i in range(len(set1)):\n",
    "        if set1[i] != set2[i]:\n",
    "            symmetric_size += 2\n",
    "    return symmetric_size"
   ],
   "metadata": {
    "collapsed": false,
    "pycharm": {
     "name": "#%%\n"
    }
   }
  },
  {
   "cell_type": "code",
   "execution_count": 31,
   "outputs": [],
   "source": [
    "s1 = [1, 2, 4, 6, 8]\n",
    "s2 = [1, 2, 4, 6, 9]\n",
    "s3 = [1, 2, 4, 7, 9]\n",
    "s4 = [1, 3, 5, 7, 9]"
   ],
   "metadata": {
    "collapsed": false,
    "pycharm": {
     "name": "#%%\n"
    }
   }
  },
  {
   "cell_type": "markdown",
   "source": [
    "## Symmetric size"
   ],
   "metadata": {
    "collapsed": false,
    "pycharm": {
     "name": "#%% md\n"
    }
   }
  },
  {
   "cell_type": "code",
   "execution_count": 32,
   "outputs": [
    {
     "name": "stdout",
     "output_type": "stream",
     "text": [
      "symmetric size of (s1, s2): 2\n",
      "symmetric size of (s1, s3): 4\n",
      "symmetric size of (s1, s4): 8\n",
      "symmetric size of (s2, s3): 2\n",
      "symmetric size of (s2, s4): 6\n",
      "symmetric size of (s3, s4): 4\n"
     ]
    }
   ],
   "source": [
    "sym_size_s1s2 = calculate_symmetric_size(s1, s2)\n",
    "print(\"symmetric size of (s1, s2):\", sym_size_s1s2)\n",
    "sym_size_s1s3 = calculate_symmetric_size(s1, s3)\n",
    "print(\"symmetric size of (s1, s3):\", sym_size_s1s3)\n",
    "sym_size_s1s4 = calculate_symmetric_size(s1, s4)\n",
    "print(\"symmetric size of (s1, s4):\", sym_size_s1s4)\n",
    "sym_size_s2s3 = calculate_symmetric_size(s2, s3)\n",
    "print(\"symmetric size of (s2, s3):\", sym_size_s2s3)\n",
    "sym_size_s2s4 = calculate_symmetric_size(s2, s4)\n",
    "print(\"symmetric size of (s2, s4):\", sym_size_s2s4)\n",
    "sym_size_s3s4 = calculate_symmetric_size(s3, s4)\n",
    "print(\"symmetric size of (s3, s4):\", sym_size_s3s4)"
   ],
   "metadata": {
    "collapsed": false,
    "pycharm": {
     "name": "#%%\n"
    }
   }
  },
  {
   "cell_type": "markdown",
   "source": [
    "## Odd Sketch"
   ],
   "metadata": {
    "collapsed": false
   }
  },
  {
   "cell_type": "code",
   "execution_count": 33,
   "outputs": [],
   "source": [
    "def hash_function(value, mod):\n",
    "    # 按需调整\n",
    "    result = (value + 1) % mod\n",
    "    return result\n",
    "\n",
    "\n",
    "def calculate_odd_sketch(set1, mod):\n",
    "    result = [0] * mod\n",
    "    for value in set1:\n",
    "        hash_value = hash_function(value, mod)\n",
    "        if result[hash_value] == 0:\n",
    "            result[hash_value] = 1\n",
    "        else:\n",
    "            result[hash_value] = 0\n",
    "    return result"
   ],
   "metadata": {
    "collapsed": false,
    "pycharm": {
     "name": "#%%\n"
    }
   }
  },
  {
   "cell_type": "code",
   "execution_count": 34,
   "outputs": [
    {
     "name": "stdout",
     "output_type": "stream",
     "text": [
      "odd sketch of s1: [0, 0, 1, 0]\n",
      "odd sketch of s2: [0, 1, 0, 0]\n",
      "odd sketch of s3: [1, 1, 0, 1]\n",
      "odd sketch of s4: [0, 0, 1, 0]\n"
     ]
    }
   ],
   "source": [
    "mod = 4\n",
    "odd_sketch_s1 = calculate_odd_sketch(s1, mod)\n",
    "print(\"odd sketch of s1:\", odd_sketch_s1)\n",
    "odd_sketch_s2 = calculate_odd_sketch(s2, mod)\n",
    "print(\"odd sketch of s2:\", odd_sketch_s2)\n",
    "odd_sketch_s3 = calculate_odd_sketch(s3, mod)\n",
    "print(\"odd sketch of s3:\", odd_sketch_s3)\n",
    "odd_sketch_s4 = calculate_odd_sketch(s4, mod)\n",
    "print(\"odd sketch of s4:\", odd_sketch_s4)"
   ],
   "metadata": {
    "collapsed": false,
    "pycharm": {
     "name": "#%%\n"
    }
   }
  },
  {
   "cell_type": "markdown",
   "source": [
    "## Different size with Odd sketch"
   ],
   "metadata": {
    "collapsed": false,
    "pycharm": {
     "name": "#%% md\n"
    }
   }
  },
  {
   "cell_type": "code",
   "execution_count": 35,
   "outputs": [],
   "source": [
    "def xor(odd_sketch1, odd_sketch2):\n",
    "    odd_sketch1 = np.array(odd_sketch1) == 1\n",
    "    odd_sketch2 = np.array(odd_sketch2) == 1\n",
    "    return np.sum(np.logical_xor(odd_sketch1, odd_sketch2))\n"
   ],
   "metadata": {
    "collapsed": false,
    "pycharm": {
     "name": "#%%\n"
    }
   }
  },
  {
   "cell_type": "code",
   "execution_count": 36,
   "outputs": [
    {
     "name": "stdout",
     "output_type": "stream",
     "text": [
      "symmetric size of (s1, s2): 2\n",
      "symmetric size of (s1, s3): 4\n",
      "symmetric size of (s1, s4): 0\n",
      "symmetric size of (s2, s3): 2\n",
      "symmetric size of (s2, s4): 2\n",
      "symmetric size of (s3, s4): 4\n"
     ]
    }
   ],
   "source": [
    "sym_size_s1s2 = xor(odd_sketch_s1, odd_sketch_s2)\n",
    "print(\"symmetric size of (s1, s2):\", sym_size_s1s2)\n",
    "sym_size_s1s3 = xor(odd_sketch_s1, odd_sketch_s3)\n",
    "print(\"symmetric size of (s1, s3):\", sym_size_s1s3)\n",
    "sym_size_s1s4 = xor(odd_sketch_s1, odd_sketch_s4)\n",
    "print(\"symmetric size of (s1, s4):\", sym_size_s1s4)\n",
    "sym_size_s2s3 = xor(odd_sketch_s2, odd_sketch_s3)\n",
    "print(\"symmetric size of (s2, s3):\", sym_size_s2s3)\n",
    "sym_size_s2s4 = xor(odd_sketch_s2, odd_sketch_s4)\n",
    "print(\"symmetric size of (s2, s4):\", sym_size_s2s4)\n",
    "sym_size_s3s4 = xor(odd_sketch_s3, odd_sketch_s4)\n",
    "print(\"symmetric size of (s3, s4):\", sym_size_s3s4)\n"
   ],
   "metadata": {
    "collapsed": false,
    "pycharm": {
     "name": "#%%\n"
    }
   }
  }
 ],
 "metadata": {
  "kernelspec": {
   "display_name": "Python 3",
   "language": "python",
   "name": "python3"
  },
  "language_info": {
   "codemirror_mode": {
    "name": "ipython",
    "version": 2
   },
   "file_extension": ".py",
   "mimetype": "text/x-python",
   "name": "python",
   "nbconvert_exporter": "python",
   "pygments_lexer": "ipython2",
   "version": "2.7.6"
  }
 },
 "nbformat": 4,
 "nbformat_minor": 0
}