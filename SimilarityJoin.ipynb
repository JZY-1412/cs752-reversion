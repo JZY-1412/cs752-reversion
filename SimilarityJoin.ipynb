{
 "cells": [
  {
   "cell_type": "markdown",
   "metadata": {
    "collapsed": true,
    "pycharm": {
     "name": "#%% md\n"
    }
   },
   "source": [
    "# Similarity Join"
   ]
  },
  {
   "cell_type": "code",
   "execution_count": 23,
   "outputs": [],
   "source": [
    "import numpy as np"
   ],
   "metadata": {
    "collapsed": false,
    "pycharm": {
     "name": "#%%\n"
    }
   }
  },
  {
   "cell_type": "markdown",
   "source": [
    "## Basic"
   ],
   "metadata": {
    "collapsed": false,
    "pycharm": {
     "name": "#%% md\n"
    }
   }
  },
  {
   "cell_type": "code",
   "execution_count": 24,
   "outputs": [],
   "source": [
    "def compute_similarity(document1, document2):\n",
    "    similarity = 0\n",
    "    for word1 in document1:\n",
    "        for word2 in document2:\n",
    "            if word1[0] == word2[0]:\n",
    "                similarity = similarity + word1[1] * word2[1]\n",
    "    return similarity"
   ],
   "metadata": {
    "collapsed": false,
    "pycharm": {
     "name": "#%%\n"
    }
   }
  },
  {
   "cell_type": "code",
   "execution_count": 25,
   "outputs": [
    {
     "name": "stdout",
     "output_type": "stream",
     "text": [
      "d1d2: 6\n",
      "d1d3: 34\n",
      "d1d4: 0\n",
      "d2d3: 30\n",
      "d2d4: 68\n",
      "d3d4: 25\n"
     ]
    }
   ],
   "source": [
    "d1 = [(\"andrew\", 6), (\"teach\", 4), (\"logic\", 2), (\"database\", 5)]\n",
    "d2 = [(\"peter\", 6), (\"study\", 2), (\"python\", 6), (\"logic\", 3)]\n",
    "d3 = [(\"andrew\", 5), (\"teach\", 1), (\"python\", 5)]\n",
    "d4 = [(\"peter\", 5), (\"study\", 4), (\"like\", 2), (\"python\", 5)]\n",
    "\n",
    "d1d2 = compute_similarity(d1, d2)\n",
    "print(\"d1d2:\", d1d2)\n",
    "d1d3 = compute_similarity(d1, d3)\n",
    "print(\"d1d3:\", d1d3)\n",
    "d1d4 = compute_similarity(d1, d4)\n",
    "print(\"d1d4:\", d1d4)\n",
    "d2d3 = compute_similarity(d2, d3)\n",
    "print(\"d2d3:\", d2d3)\n",
    "d2d4 = compute_similarity(d2, d4)\n",
    "print(\"d2d4:\", d2d4)\n",
    "d3d4 = compute_similarity(d3, d4)\n",
    "print(\"d3d4:\", d3d4)"
   ],
   "metadata": {
    "collapsed": false,
    "pycharm": {
     "name": "#%%\n"
    }
   }
  },
  {
   "cell_type": "markdown",
   "source": [
    "## Map Reduce"
   ],
   "metadata": {
    "collapsed": false
   }
  },
  {
   "cell_type": "code",
   "execution_count": 26,
   "outputs": [],
   "source": [
    "def construct_maximum_vector(documents, dimension_indexes):\n",
    "    maximum_vector = {}\n",
    "    for document in documents:\n",
    "        for word in document:\n",
    "            if word[0] in maximum_vector:\n",
    "                if word[1] > maximum_vector[word[0]]:\n",
    "                    maximum_vector[word[0]] = word[1]\n",
    "            else:\n",
    "                maximum_vector[word[0]] = word[1]\n",
    "    return maximum_vector\n",
    "\n",
    "\n",
    "def construct_signature(document, dimension_indexes, maximum_vector, threshold):\n",
    "    signature = []\n",
    "    similarity = 0\n",
    "    for word1 in dimension_indexes:\n",
    "        for index in range(len(document)):\n",
    "            word2 = document[index]\n",
    "            if word1[0] == word2[0]:\n",
    "                similarity = similarity + word2[1] * maximum_vector[word2[0]]\n",
    "                if similarity > threshold:\n",
    "                    signature = document[index:]\n",
    "                    return signature\n",
    "    return signature\n",
    "\n",
    "\n",
    "def is_candidate_pair(document1, document2):\n",
    "    for word1 in document1:\n",
    "        for word2 in document2:\n",
    "            if word1[0] == word2[0]:\n",
    "                return True\n",
    "    return False"
   ],
   "metadata": {
    "collapsed": false,
    "pycharm": {
     "name": "#%%\n"
    }
   }
  },
  {
   "cell_type": "code",
   "execution_count": 27,
   "outputs": [
    {
     "name": "stdout",
     "output_type": "stream",
     "text": [
      "Maximum Vector:\n",
      "{'andrew': 6, 'teach': 4, 'logic': 3, 'database': 5, 'peter': 6, 'study': 4, 'python': 6, 'like': 2}\n",
      "\n",
      "Signatures:\n",
      "d1: [('teach', 4), ('logic', 2), ('database', 5)]\n",
      "d1: [('study', 2), ('python', 6), ('logic', 3)]\n",
      "d1: [('python', 5)]\n",
      "d1: [('study', 4), ('like', 2), ('python', 5)]\n",
      "\n",
      "Candidate Pairs:\n",
      "(d1, d2)\n",
      "(d2, d3)\n",
      "(d2, d4)\n",
      "(d3, d4)\n"
     ]
    }
   ],
   "source": [
    "dimension_indexes = [(\"andrew\", 1), (\"peter\", 2), (\"teach\", 3), (\"study\", 4), (\"like\", 5), (\"logic\", 6), (\"database\", 7), (\"python\", 8)]\n",
    "threshold = 37\n",
    "\n",
    "documents = [d1, d2, d3, d4]\n",
    "print(\"Maximum Vector:\")\n",
    "maximum_vector = construct_maximum_vector(documents, dimension_indexes)\n",
    "print(maximum_vector)\n",
    "print()\n",
    "print(\"Signatures:\")\n",
    "d1_signature = construct_signature(d1, dimension_indexes, maximum_vector, threshold)\n",
    "print(\"d1:\", d1_signature)\n",
    "d2_signature = construct_signature(d2, dimension_indexes, maximum_vector, threshold)\n",
    "print(\"d1:\", d2_signature)\n",
    "d3_signature = construct_signature(d3, dimension_indexes, maximum_vector, threshold)\n",
    "print(\"d1:\", d3_signature)\n",
    "d4_signature = construct_signature(d4, dimension_indexes, maximum_vector, threshold)\n",
    "print(\"d1:\", d4_signature)\n",
    "print()\n",
    "print(\"Candidate Pairs:\")\n",
    "signatures = [d1_signature, d2_signature, d3_signature, d4_signature]\n",
    "for i in range(len(signatures)):\n",
    "    doc1 = signatures[i]\n",
    "    for j in range(len(signatures)):\n",
    "        if i >= j:\n",
    "            continue\n",
    "        else:\n",
    "            doc2 = signatures[j]\n",
    "            if is_candidate_pair(doc1, doc2):\n",
    "                print(\"(d\", i+1, \", d\", j+1, \")\", sep=\"\")\n"
   ],
   "metadata": {
    "collapsed": false,
    "pycharm": {
     "name": "#%%\n"
    }
   }
  }
 ],
 "metadata": {
  "kernelspec": {
   "display_name": "Python 3",
   "language": "python",
   "name": "python3"
  },
  "language_info": {
   "codemirror_mode": {
    "name": "ipython",
    "version": 2
   },
   "file_extension": ".py",
   "mimetype": "text/x-python",
   "name": "python",
   "nbconvert_exporter": "python",
   "pygments_lexer": "ipython2",
   "version": "2.7.6"
  }
 },
 "nbformat": 4,
 "nbformat_minor": 0
}