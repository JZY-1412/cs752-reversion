{
 "cells": [
  {
   "cell_type": "markdown",
   "metadata": {
    "collapsed": true,
    "pycharm": {
     "name": "#%% md\n"
    }
   },
   "source": [
    "# Similarity Join"
   ]
  },
  {
   "cell_type": "code",
   "execution_count": 1,
   "outputs": [],
   "source": [
    "import numpy as np"
   ],
   "metadata": {
    "collapsed": false,
    "pycharm": {
     "name": "#%%\n"
    }
   }
  },
  {
   "cell_type": "markdown",
   "source": [
    "## Basic"
   ],
   "metadata": {
    "collapsed": false,
    "pycharm": {
     "name": "#%% md\n"
    }
   }
  },
  {
   "cell_type": "code",
   "execution_count": 2,
   "outputs": [],
   "source": [
    "def compute_similarity(document1, document2):\n",
    "    similarity = 0\n",
    "    for word1 in document1:\n",
    "        for word2 in document2:\n",
    "            if word1[0] == word2[0]:\n",
    "                similarity = similarity + word1[1] * word2[1]\n",
    "    return similarity"
   ],
   "metadata": {
    "collapsed": false,
    "pycharm": {
     "name": "#%%\n"
    }
   }
  },
  {
   "cell_type": "code",
   "execution_count": 3,
   "outputs": [
    {
     "name": "stdout",
     "output_type": "stream",
     "text": [
      "d1d2: 6\n",
      "d1d3: 34\n",
      "d1d4: 0\n",
      "d2d3: 30\n",
      "d2d4: 68\n",
      "d3d4: 25\n"
     ]
    }
   ],
   "source": [
    "d1 = {(\"andrew\", 6), (\"teach\", 4), (\"logic\", 2), (\"database\", 5)}\n",
    "d2 = {(\"peter\", 6), (\"study\", 2), (\"python\", 6), (\"logic\", 3)}\n",
    "d3 = {(\"andrew\", 5), (\"teach\", 1), (\"python\", 5)}\n",
    "d4 = {(\"peter\", 5), (\"study\", 4), (\"like\", 2), (\"python\", 5)}\n",
    "\n",
    "d1d2 = compute_similarity(d1, d2)\n",
    "print(\"d1d2:\", d1d2)\n",
    "d1d3 = compute_similarity(d1, d3)\n",
    "print(\"d1d3:\", d1d3)\n",
    "d1d4 = compute_similarity(d1, d4)\n",
    "print(\"d1d4:\", d1d4)\n",
    "d2d3 = compute_similarity(d2, d3)\n",
    "print(\"d2d3:\", d2d3)\n",
    "d2d4 = compute_similarity(d2, d4)\n",
    "print(\"d2d4:\", d2d4)\n",
    "d3d4 = compute_similarity(d3, d4)\n",
    "print(\"d3d4:\", d3d4)"
   ],
   "metadata": {
    "collapsed": false,
    "pycharm": {
     "name": "#%%\n"
    }
   }
  },
  {
   "cell_type": "markdown",
   "source": [
    "## Map Reduce"
   ],
   "metadata": {
    "collapsed": false
   }
  },
  {
   "cell_type": "code",
   "execution_count": null,
   "outputs": [],
   "source": [
    "\n"
   ],
   "metadata": {
    "collapsed": false,
    "pycharm": {
     "name": "#%%\n"
    }
   }
  }
 ],
 "metadata": {
  "kernelspec": {
   "display_name": "Python 3",
   "language": "python",
   "name": "python3"
  },
  "language_info": {
   "codemirror_mode": {
    "name": "ipython",
    "version": 2
   },
   "file_extension": ".py",
   "mimetype": "text/x-python",
   "name": "python",
   "nbconvert_exporter": "python",
   "pygments_lexer": "ipython2",
   "version": "2.7.6"
  }
 },
 "nbformat": 4,
 "nbformat_minor": 0
}